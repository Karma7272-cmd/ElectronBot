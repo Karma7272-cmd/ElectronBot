{
  "nbformat": 4,
  "nbformat_minor": 0,
  "metadata": {
    "colab": {
      "provenance": [],
      "include_colab_link": true
    },
    "kernelspec": {
      "name": "python3",
      "display_name": "Python 3"
    },
    "language_info": {
      "name": "python"
    }
  },
  "cells": [
    {
      "cell_type": "markdown",
      "metadata": {
        "id": "view-in-github",
        "colab_type": "text"
      },
      "source": [
        "<a href=\"https://colab.research.google.com/github/Karma7272-cmd/ElectronBot/blob/main/Untitled2.ipynb\" target=\"_parent\"><img src=\"https://colab.research.google.com/assets/colab-badge.svg\" alt=\"Open In Colab\"/></a>"
      ]
    },
    {
      "cell_type": "code",
      "execution_count": null,
      "metadata": {
        "colab": {
          "base_uri": "https://localhost:8080/"
        },
        "id": "fwqCi2UDJBf8",
        "outputId": "9cd43c93-9b51-4622-917d-fec5541d6c33"
      },
      "outputs": [
        {
          "output_type": "stream",
          "name": "stdout",
          "text": [
            "Hello, World!\n"
          ]
        }
      ],
      "source": [
        "print(\"Hello, World!\")  # Output: Hello, World!\n"
      ]
    },
    {
      "cell_type": "code",
      "source": [
        "name = input(\"Enter your name: \")\n",
        "print(\"Hello,\", name)\n"
      ],
      "metadata": {
        "colab": {
          "base_uri": "https://localhost:8080/"
        },
        "id": "rhSb6cNFJG7e",
        "outputId": "8a9eb9d6-f9d9-4198-e5ee-858056b5c714"
      },
      "execution_count": null,
      "outputs": [
        {
          "output_type": "stream",
          "name": "stdout",
          "text": [
            "Enter your name: nantha\n",
            "Hello, nantha\n"
          ]
        }
      ]
    },
    {
      "cell_type": "markdown",
      "source": [
        "data types:\n",
        "\n",
        "x = 10             # int\n",
        "y = 3.14           # float\n",
        "z = \"Hello\"        # str\n",
        "is_valid = True    # bool\n",
        "\n",
        "\n",
        "\n",
        "int(\"5\")        # Converts string to integer\n",
        "float(\"3.5\")    # Converts string to float\n",
        "str(123)        # Converts integer to string\n"
      ],
      "metadata": {
        "id": "K7iNQ-LpJjzd"
      }
    },
    {
      "cell_type": "markdown",
      "source": [
        "| Operator | Description         | Example       |\n",
        "| -------- | ------------------- | ------------- |\n",
        "| `+`      | Addition            | `3 + 2` → 5   |\n",
        "| `-`      | Subtraction         | `3 - 2` → 1   |\n",
        "| `*`      | Multiplication      | `3 * 2` → 6   |\n",
        "| `/`      | Division (float)    | `3 / 2` → 1.5 |\n",
        "| `//`     | Floor Division      | `3 // 2` → 1  |\n",
        "| `%`      | Modulus (remainder) | `3 % 2` → 1   |\n",
        "| `**`     | Exponentiation      | `2 ** 3` → 8  |\n"
      ],
      "metadata": {
        "id": "o3k616hYJ1zP"
      }
    },
    {
      "cell_type": "markdown",
      "source": [
        "| Operator | Description         | Example       |\n",
        "| -------- | ------------------- | ------------- |\n",
        "| `+`      | Addition            | `3 + 2` → 5   |\n",
        "| `-`      | Subtraction         | `3 - 2` → 1   |\n",
        "| `*`      | Multiplication      | `3 * 2` → 6   |\n",
        "| `/`      | Division (float)    | `3 / 2` → 1.5 |\n",
        "| `//`     | Floor Division      | `3 // 2` → 1  |\n",
        "| `%`      | Modulus (remainder) | `3 % 2` → 1   |\n",
        "| `**`     | Exponentiation      | `2 ** 3` → 8  |\n"
      ],
      "metadata": {
        "id": "-_srW7TYJ7OG"
      }
    },
    {
      "cell_type": "markdown",
      "source": [
        "| Operator | Example  | Equivalent To |\n",
        "| -------- | -------- | ------------- |\n",
        "| `=`      | `x = 5`  |               |\n",
        "| `+=`     | `x += 2` | `x = x + 2`   |\n",
        "| `-=`     | `x -= 2` | `x = x - 2`   |\n",
        "| `*=`     | `x *= 2` | `x = x * 2`   |\n",
        "| `/=`     | `x /= 2` | `x = x / 2`   |\n"
      ],
      "metadata": {
        "id": "q7ItCmyQJ_8I"
      }
    },
    {
      "cell_type": "markdown",
      "source": [
        "| Operator | Meaning                   | Example                  |\n",
        "| -------- | ------------------------- | ------------------------ |\n",
        "| `and`    | True if both are true     | `True and False` → False |\n",
        "| `or`     | True if at least one true | `True or False` → True   |\n",
        "| `not`    | Reverses the condition    | `not True` → False       |\n"
      ],
      "metadata": {
        "id": "RcSLoU5_KDjb"
      }
    },
    {
      "cell_type": "code",
      "source": [
        "# Simple calculator\n",
        "a = int(input(\"Enter first number: \"))\n",
        "b = int(input(\"Enter second number: \"))\n",
        "\n",
        "print(\"Sum =\", a + b)\n",
        "print(\"Product =\", a * b)\n",
        "print(\"Power =\", a ** b)\n"
      ],
      "metadata": {
        "id": "iERBpqMAKGE1"
      },
      "execution_count": null,
      "outputs": []
    },
    {
      "cell_type": "code",
      "source": [
        "#basic if statement\n",
        "x = 10\n",
        "if x > 5:\n",
        "    print(\"x is greater than 5\")\n"
      ],
      "metadata": {
        "id": "U2tDwMxWKLGI"
      },
      "execution_count": null,
      "outputs": []
    },
    {
      "cell_type": "code",
      "source": [
        "#if else statement\n",
        "x = 3\n",
        "if x > 5:\n",
        "    print(\"x is greater than 5\")\n",
        "else:\n",
        "    print(\"x is less than or equal to 5\")\n"
      ],
      "metadata": {
        "id": "Ki0zHTmTKR4h"
      },
      "execution_count": null,
      "outputs": []
    },
    {
      "cell_type": "code",
      "source": [
        "#if...elif...else Chain\n",
        "x = 0\n",
        "\n",
        "if x > 0:\n",
        "    print(\"Positive\")\n",
        "elif x == 0:\n",
        "    print(\"Zero\")\n",
        "else:\n",
        "    print(\"Negative\")\n"
      ],
      "metadata": {
        "id": "LJTEbHEWKcDu"
      },
      "execution_count": null,
      "outputs": []
    },
    {
      "cell_type": "code",
      "source": [
        "#Nested if Statements\n",
        "x = 20\n",
        "if x > 10:\n",
        "    if x < 30:\n",
        "        print(\"x is between 10 and 30\")\n"
      ],
      "metadata": {
        "id": "Eho9B0w8Kimm"
      },
      "execution_count": null,
      "outputs": []
    },
    {
      "cell_type": "code",
      "source": [
        "# Logical Operators with Conditions\n",
        "x = 15\n",
        "\n",
        "if x > 10 and x < 20:\n",
        "    print(\"x is between 10 and 20\")\n",
        "\n",
        "if x < 0 or x > 100:\n",
        "    print(\"x is out of range\")\n",
        "\n",
        "if not (x == 15):\n",
        "    print(\"x is not 15\")\n",
        "else:\n",
        "    print(\"x is 15\")\n"
      ],
      "metadata": {
        "id": "lpHkTwglKnVT"
      },
      "execution_count": null,
      "outputs": []
    },
    {
      "cell_type": "code",
      "source": [
        "#for Loop\n",
        "for i in range(5):\n",
        "    print(i)\n",
        "# Output: 0 1 2 3 4\n"
      ],
      "metadata": {
        "id": "3wvOD0LPKuIe"
      },
      "execution_count": null,
      "outputs": []
    },
    {
      "cell_type": "code",
      "source": [
        "#Loop through a string:\n",
        "for char in \"hello\":\n",
        "    print(char)\n"
      ],
      "metadata": {
        "id": "U2BdYNayK2K4"
      },
      "execution_count": null,
      "outputs": []
    },
    {
      "cell_type": "code",
      "source": [
        "#Loop through a list:\n",
        "fruits = [\"apple\", \"banana\", \"cherry\"]\n",
        "for fruit in fruits:\n",
        "    print(fruit)\n"
      ],
      "metadata": {
        "id": "kLRHu3AWK8Un"
      },
      "execution_count": null,
      "outputs": []
    },
    {
      "cell_type": "code",
      "source": [
        "#while Loop\n",
        "x = 1\n",
        "while x <= 5:\n",
        "    print(x)\n",
        "    x += 1\n"
      ],
      "metadata": {
        "id": "qutmcIy_LAv3"
      },
      "execution_count": null,
      "outputs": []
    },
    {
      "cell_type": "code",
      "source": [
        "#break and continue\n",
        "for i in range(10):\n",
        "    if i == 5:\n",
        "        break\n",
        "    print(i)\n",
        "# Output: 0 1 2 3 4\n"
      ],
      "metadata": {
        "id": "s90WMcejLD-c"
      },
      "execution_count": null,
      "outputs": []
    },
    {
      "cell_type": "code",
      "source": [
        "#else with Loops\n",
        "for i in range(3):\n",
        "    print(i)\n",
        "else:\n",
        "    print(\"Loop completed\")  # Runs only if no `break`\n"
      ],
      "metadata": {
        "id": "hyVzi8n-LH1B"
      },
      "execution_count": null,
      "outputs": []
    },
    {
      "cell_type": "code",
      "source": [
        "# Lists\n",
        "fruits = [\"apple\", \"banana\", \"cherry\"]\n",
        "print(fruits[0])     # Output: apple\n",
        "\n",
        "fruits.append(\"orange\")     # Add to end\n",
        "fruits.remove(\"banana\")     # Remove item\n",
        "print(len(fruits))          # Length of list\n"
      ],
      "metadata": {
        "id": "HrWzq-55LPvJ"
      },
      "execution_count": null,
      "outputs": []
    },
    {
      "cell_type": "code",
      "source": [
        "#Tuples\n",
        "point = (10, 20)\n",
        "print(point[0])      # Output: 10\n"
      ],
      "metadata": {
        "id": "TwnOJv0rLTvj"
      },
      "execution_count": null,
      "outputs": []
    },
    {
      "cell_type": "code",
      "source": [
        "#Sets\n",
        "colors = {\"red\", \"green\", \"blue\"}\n",
        "colors.add(\"yellow\")\n",
        "colors.discard(\"green\")\n",
        "print(colors)\n"
      ],
      "metadata": {
        "id": "aTHrDp1ZLYHs"
      },
      "execution_count": null,
      "outputs": []
    },
    {
      "cell_type": "code",
      "source": [
        "# Dictionaries\n",
        "person = {\"name\": \"Alice\", \"age\": 30}\n",
        "print(person[\"name\"])       # Output: Alice\n",
        "person[\"city\"] = \"New York\"  # Add new key-value pair"
      ],
      "metadata": {
        "id": "z0WZqsr7Lajh"
      },
      "execution_count": null,
      "outputs": []
    },
    {
      "cell_type": "code",
      "source": [
        "#Example: Use All Structures\n",
        "\n",
        "# List\n",
        "fruits = [\"apple\", \"banana\"]\n",
        "\n",
        "# Tuple\n",
        "point = (10, 20)\n",
        "\n",
        "# Set\n",
        "unique_ids = {101, 102, 103}\n",
        "\n",
        "# Dictionary\n",
        "person = {\"name\": \"John\", \"age\": 30}\n"
      ],
      "metadata": {
        "id": "tEZdIgy0LsUj"
      },
      "execution_count": null,
      "outputs": []
    },
    {
      "cell_type": "code",
      "source": [
        "#Defining a Function\n",
        "def greet():\n",
        "    print(\"Hello!\")\n"
      ],
      "metadata": {
        "id": "qJ8z4DVJL3GA"
      },
      "execution_count": null,
      "outputs": []
    },
    {
      "cell_type": "code",
      "source": [
        "#Calling a Function\n",
        "greet()   # Output: Hello!\n"
      ],
      "metadata": {
        "id": "odLxlK33L7BT"
      },
      "execution_count": null,
      "outputs": []
    },
    {
      "cell_type": "code",
      "source": [
        "# Function with Parameters\n",
        "def greet(name):\n",
        "    print(\"Hello,\", name)\n",
        "\n",
        "greet(\"Alice\")  # Output: Hello, Alice\n"
      ],
      "metadata": {
        "id": "wxeWMIHSL_WA"
      },
      "execution_count": null,
      "outputs": []
    },
    {
      "cell_type": "code",
      "source": [
        "# (Multiple Positional Arguments):\n",
        "def total(*numbers):\n",
        "    print(sum(numbers))\n",
        "\n",
        "total(1, 2, 3, 4)  # Output: 10\n"
      ],
      "metadata": {
        "id": "CaHkMsyZMFrn"
      },
      "execution_count": null,
      "outputs": []
    },
    {
      "cell_type": "code",
      "source": [
        "#Opening a File\n",
        "file = open(\"example.txt\", \"r\")  # \"r\" = read mode\n"
      ],
      "metadata": {
        "id": "e-2ThznTMMTs"
      },
      "execution_count": null,
      "outputs": []
    },
    {
      "cell_type": "code",
      "source": [
        "#Reading from a File\n",
        "file = open(\"example.txt\", \"r\")\n",
        "content = file.read()\n",
        "print(content)\n",
        "file.close()\n"
      ],
      "metadata": {
        "id": "LkzlMV-KMQu5"
      },
      "execution_count": null,
      "outputs": []
    },
    {
      "cell_type": "code",
      "source": [
        "#Writing to a File\n",
        "file = open(\"example.txt\", \"w\")\n",
        "file.write(\"Hello, World!\")\n",
        "file.close()"
      ],
      "metadata": {
        "id": "hfkSbdiaMV1t"
      },
      "execution_count": null,
      "outputs": []
    },
    {
      "cell_type": "code",
      "source": [
        "# Writing Multiple Lines\n",
        "file = open(\"example.txt\", \"w\")\n",
        "lines = [\"Line 1\\n\", \"Line 2\\n\", \"Line 3\\n\"]\n",
        "file.writelines(lines)\n",
        "file.close()"
      ],
      "metadata": {
        "id": "0fPnXjDPMapG"
      },
      "execution_count": null,
      "outputs": []
    },
    {
      "cell_type": "code",
      "source": [
        "# Example: Count Words in a File\n",
        "with open(\"example.txt\", \"r\") as file:\n",
        "    content = file.read()\n",
        "    words = content.split()\n",
        "    print(\"Word count:\", len(words))\n"
      ],
      "metadata": {
        "id": "MxLaSpCUMf6y"
      },
      "execution_count": null,
      "outputs": []
    }
  ]
}